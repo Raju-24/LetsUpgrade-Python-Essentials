{
 "cells": [
  {
   "cell_type": "code",
   "execution_count": 2,
   "metadata": {},
   "outputs": [],
   "source": [
    "# Python Essential_Day 2\n",
    "# back slash: Back slash is used as continuation sign\n",
    "# Triple quotes : Triple quotes quotes are used when we have to write multiple code lines.  It is also used when the string contains both single and double quotes\n",
    "# Formatted output: it helps in creating the spaces between the text,  In float it can be used for rounding off the value\n",
    "#                 %s is used for string, %f is used for float, %d is used for integer\n",
    "# Variable: linking the iterables to name.  It also refers to memory location of the stored data\n",
    "# python operates\n",
    "# And operator\n",
    "# \"T+T=T\n",
    "# F+F=F\n",
    "# T+F=F\n",
    "# F+T=F\"\n",
    "# OR operator\n",
    "# \"T+T=T\n",
    "# F+F=F\n",
    "# T+F=T\n",
    "# F+T=T\""
   ]
  },
  {
   "cell_type": "code",
   "execution_count": null,
   "metadata": {},
   "outputs": [],
   "source": []
  }
 ],
 "metadata": {
  "kernelspec": {
   "display_name": "Python 3",
   "language": "python",
   "name": "python3"
  },
  "language_info": {
   "codemirror_mode": {
    "name": "ipython",
    "version": 3
   },
   "file_extension": ".py",
   "mimetype": "text/x-python",
   "name": "python",
   "nbconvert_exporter": "python",
   "pygments_lexer": "ipython3",
   "version": "3.7.6"
  }
 },
 "nbformat": 4,
 "nbformat_minor": 4
}
