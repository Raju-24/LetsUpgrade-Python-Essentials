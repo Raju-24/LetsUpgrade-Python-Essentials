{
 "cells": [
  {
   "cell_type": "markdown",
   "metadata": {},
   "source": [
    "# Question 1"
   ]
  },
  {
   "cell_type": "code",
   "execution_count": 77,
   "metadata": {},
   "outputs": [],
   "source": [
    "# create a bank account class"
   ]
  },
  {
   "cell_type": "code",
   "execution_count": 78,
   "metadata": {},
   "outputs": [
    {
     "name": "stdout",
     "output_type": "stream",
     "text": [
      "Enter A/c holder's name Raju K\n",
      "Enter the balance 10000\n",
      "ENTER THE AMOUNT TO BE DEPOSITED:1000\n",
      "11000\n",
      "ENTER THE AMOUNT TO BE WITHDRAWN:2000\n",
      "withdraw the amount successfully\n",
      "9000\n"
     ]
    }
   ],
   "source": [
    "class bank_account():\n",
    "    own=\"\"\n",
    "    bal=0\n",
    "    def __init__(self,own,bal):\n",
    "        self.own=own\n",
    "        self.bal=bal\n",
    "    def deposit(self):\n",
    "        dep=int(input(\"ENTER THE AMOUNT TO BE DEPOSITED:\"))\n",
    "        self.bal=self.bal+dep\n",
    "        return self.bal\n",
    "    def withdraw(self):\n",
    "        wd=int(input(\"ENTER THE AMOUNT TO BE WITHDRAWN:\"))\n",
    "        if(wd>self.bal or  wd==self.bal):\n",
    "            print(\"Withdraw amount exceeds A/c balace, \\nUNABLE TO WITHDRAW AMOUNT\")\n",
    "        else:\n",
    "            print(\"withdraw the amount successfully\")\n",
    "            self.bal=self.bal-wd\n",
    "            return self.bal \n",
    "own=input(\"Enter A/c holder's name \")\n",
    "bal=int(input(\"Enter the balance \"))\n",
    "customer=bank_account(own,bal)\n",
    "print(customer.deposit())\n",
    "print(customer.withdraw())"
   ]
  },
  {
   "cell_type": "markdown",
   "metadata": {},
   "source": [
    "# Question 2"
   ]
  },
  {
   "cell_type": "code",
   "execution_count": 79,
   "metadata": {},
   "outputs": [],
   "source": [
    "# For this challenge,create a cone class that has two attributes:\n",
    "# *R=Radius\n",
    "# *h=Height"
   ]
  },
  {
   "cell_type": "code",
   "execution_count": 80,
   "metadata": {},
   "outputs": [],
   "source": [
    "import math"
   ]
  },
  {
   "cell_type": "code",
   "execution_count": 81,
   "metadata": {},
   "outputs": [
    {
     "name": "stdout",
     "output_type": "stream",
     "text": [
      "\n",
      "Enter the radius of cone : 10\n",
      "\n",
      "Enter the height of cone : 12\n",
      "\n",
      "Volume Of Cone is : 1256.637061435917\n",
      "\n",
      "Surface Area Of Cone is : 691.1503837897544\n"
     ]
    }
   ],
   "source": [
    "class cone:\n",
    "    def __init__(self,r,h): \n",
    "        self.r=r\n",
    "        self.h=h\n",
    "    def volume(self):\n",
    "        result = (1 / 3) * math.pi * self.r * self.r * self.h\n",
    "        print(\"\\nVolume Of Cone is :\",result)\n",
    "    def surfacearea(self):\n",
    "        result = math.pi * self.r * self.h + math.pi * self.r * self.r\n",
    "        print(\"\\nSurface Area Of Cone is :\",result)\n",
    "ra = float(input(\"\\nEnter the radius of cone : \"))\n",
    "he = float(input(\"\\nEnter the height of cone : \"))\n",
    "c = cone( ra, he)\n",
    "c.volume()\n",
    "c.surfacearea()"
   ]
  },
  {
   "cell_type": "code",
   "execution_count": null,
   "metadata": {},
   "outputs": [],
   "source": []
  }
 ],
 "metadata": {
  "kernelspec": {
   "display_name": "Python 3",
   "language": "python",
   "name": "python3"
  }
 },
 "nbformat": 4,
 "nbformat_minor": 4
}
