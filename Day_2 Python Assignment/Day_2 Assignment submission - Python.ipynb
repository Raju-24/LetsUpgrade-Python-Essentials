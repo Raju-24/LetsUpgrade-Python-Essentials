{
 "cells": [
  {
   "cell_type": "markdown",
   "metadata": {},
   "source": [
    "# 1) List and its 5 default functions"
   ]
  },
  {
   "cell_type": "code",
   "execution_count": 6,
   "metadata": {},
   "outputs": [
    {
     "name": "stdout",
     "output_type": "stream",
     "text": [
      "['Doctor', 'Teacher', 'Nurse', 'student']\n"
     ]
    }
   ],
   "source": [
    "list1=['Doctor','Teacher','Nurse']\n",
    "list1.append('student') # will append the string at the end of the list\n",
    "print(list1)"
   ]
  },
  {
   "cell_type": "code",
   "execution_count": 7,
   "metadata": {},
   "outputs": [
    {
     "name": "stdout",
     "output_type": "stream",
     "text": [
      "['Doctor', 'Patient', 'Teacher', 'Nurse', 'student']\n"
     ]
    }
   ],
   "source": [
    "list1.insert(1,'Patient') # will insert the string at a given index\n",
    "print(list1)"
   ]
  },
  {
   "cell_type": "code",
   "execution_count": 13,
   "metadata": {},
   "outputs": [
    {
     "name": "stdout",
     "output_type": "stream",
     "text": [
      "278.6\n"
     ]
    }
   ],
   "source": [
    "list2=[10.2,20.6,30,9,40,5,28.5,98.4,36.9]\n",
    "print(sum(list2))"
   ]
  },
  {
   "cell_type": "code",
   "execution_count": 16,
   "metadata": {},
   "outputs": [
    {
     "name": "stdout",
     "output_type": "stream",
     "text": [
      "30\n"
     ]
    }
   ],
   "source": [
    "print(list2.pop(2))"
   ]
  },
  {
   "cell_type": "code",
   "execution_count": 17,
   "metadata": {},
   "outputs": [
    {
     "name": "stdout",
     "output_type": "stream",
     "text": [
      "[5, 10.2, 20.6, 28.5, 36.9, 40, 98.4]\n"
     ]
    }
   ],
   "source": [
    "print(sorted(list2))"
   ]
  },
  {
   "cell_type": "markdown",
   "metadata": {},
   "source": [
    "# 2) Dictionary and its 5 default functions"
   ]
  },
  {
   "cell_type": "code",
   "execution_count": 26,
   "metadata": {},
   "outputs": [
    {
     "name": "stdout",
     "output_type": "stream",
     "text": [
      "dict_keys(['Kannada', 'English', 'Maths', 'Science', 'Social'])\n"
     ]
    }
   ],
   "source": [
    "dict1={'Kannada':92,'English':83,'Maths':74,'Science':67,'Social':71}\n",
    "print(dict1.keys())"
   ]
  },
  {
   "cell_type": "code",
   "execution_count": 27,
   "metadata": {},
   "outputs": [
    {
     "name": "stdout",
     "output_type": "stream",
     "text": [
      "{'Kannada': 92, 'English': 83, 'Maths': 74, 'Science': 67, 'Social': 80}\n"
     ]
    }
   ],
   "source": [
    "dict1['Social']=80 # changing value\n",
    "print(dict1)"
   ]
  },
  {
   "cell_type": "code",
   "execution_count": 28,
   "metadata": {},
   "outputs": [
    {
     "name": "stdout",
     "output_type": "stream",
     "text": [
      "{'Kannada': 92, 'English': 83, 'Maths': 74, 'Science': 67, 'Social': 80, 'Hindi': 76}\n"
     ]
    }
   ],
   "source": [
    "dict1['Hindi']=76 # adding elements\n",
    "print(dict1)"
   ]
  },
  {
   "cell_type": "code",
   "execution_count": 35,
   "metadata": {},
   "outputs": [
    {
     "name": "stdout",
     "output_type": "stream",
     "text": [
      "{'Kannada': 92, 'English': 83, 'Maths': 74, 'Science': 67, 'Social': 80, 'Hindi': 76, 'Music': 95}\n"
     ]
    }
   ],
   "source": [
    "dict1.update(Music=95) # updating elements\n",
    "print(dict1)"
   ]
  },
  {
   "cell_type": "code",
   "execution_count": 41,
   "metadata": {},
   "outputs": [
    {
     "data": {
      "text/plain": [
       "95"
      ]
     },
     "execution_count": 41,
     "metadata": {},
     "output_type": "execute_result"
    }
   ],
   "source": [
    "dict1.pop('Music')"
   ]
  },
  {
   "cell_type": "markdown",
   "metadata": {},
   "source": [
    "# 3) Sets and its 5 default functions"
   ]
  },
  {
   "cell_type": "code",
   "execution_count": 45,
   "metadata": {},
   "outputs": [
    {
     "name": "stdout",
     "output_type": "stream",
     "text": [
      "{1, 2, 3, 4, 5, 6}\n"
     ]
    }
   ],
   "source": [
    "set1={1,2,3,4,5}\n",
    "set2=(4,5,6,7,8,9)\n",
    "set1.add(6) # adding element to set\n",
    "print(set1)"
   ]
  },
  {
   "cell_type": "code",
   "execution_count": 47,
   "metadata": {},
   "outputs": [
    {
     "data": {
      "text/plain": [
       "{4, 5, 6}"
      ]
     },
     "execution_count": 47,
     "metadata": {},
     "output_type": "execute_result"
    }
   ],
   "source": [
    "set1.intersection(set2) # selecting common elements"
   ]
  },
  {
   "cell_type": "code",
   "execution_count": 50,
   "metadata": {},
   "outputs": [
    {
     "name": "stdout",
     "output_type": "stream",
     "text": [
      "{1, 2, 3, 4, 5, 6, 7, 8, 9}\n"
     ]
    }
   ],
   "source": [
    "unionset=set.union(set1,set2) # to get unique elements\n",
    "print(unionset)"
   ]
  },
  {
   "cell_type": "code",
   "execution_count": 54,
   "metadata": {},
   "outputs": [
    {
     "name": "stdout",
     "output_type": "stream",
     "text": [
      "False\n"
     ]
    }
   ],
   "source": [
    "subset=set1.issubset(set2) # to find if set2 is subset of set1\n",
    "print(subset)"
   ]
  },
  {
   "cell_type": "code",
   "execution_count": 55,
   "metadata": {},
   "outputs": [
    {
     "name": "stdout",
     "output_type": "stream",
     "text": [
      "{1, 2, 3}\n"
     ]
    }
   ],
   "source": [
    "diffset=set1.difference(set2) # to get the items that are present only in set1\n",
    "print(diffset)"
   ]
  },
  {
   "cell_type": "markdown",
   "metadata": {},
   "source": [
    "# 4) Tuple and its 5 default functions"
   ]
  },
  {
   "cell_type": "code",
   "execution_count": 57,
   "metadata": {},
   "outputs": [
    {
     "name": "stdout",
     "output_type": "stream",
     "text": [
      "(1, 2, 3, 4, 'letsupgrade', 'python')\n"
     ]
    }
   ],
   "source": [
    "tup1=(1,2,3,4)\n",
    "tup2=('letsupgrade','python')\n",
    "print(tup1+tup2) # to concatenate more than one tuple"
   ]
  },
  {
   "cell_type": "code",
   "execution_count": 60,
   "metadata": {},
   "outputs": [
    {
     "name": "stdout",
     "output_type": "stream",
     "text": [
      "('python', 'letsupgrade')\n"
     ]
    }
   ],
   "source": [
    "revtup=('letsupgrade','python')\n",
    "print(revtup[::-1]) # to reverse the elements in tuple"
   ]
  },
  {
   "cell_type": "code",
   "execution_count": 64,
   "metadata": {},
   "outputs": [
    {
     "name": "stdout",
     "output_type": "stream",
     "text": [
      "tup3= ((1, 2, 3, 4), ('letsupgrade', 'python'))\n"
     ]
    }
   ],
   "source": [
    "tup3=(tup1,tup2) # nested tuples\n",
    "print('tup3=',tup3)"
   ]
  },
  {
   "cell_type": "code",
   "execution_count": 66,
   "metadata": {},
   "outputs": [
    {
     "name": "stdout",
     "output_type": "stream",
     "text": [
      "('letsupgrade', 'python', 'letsupgrade', 'python')\n"
     ]
    }
   ],
   "source": [
    "print(tup2*2) # repetation of tuple"
   ]
  },
  {
   "cell_type": "code",
   "execution_count": 68,
   "metadata": {},
   "outputs": [
    {
     "name": "stdout",
     "output_type": "stream",
     "text": [
      "python\n"
     ]
    }
   ],
   "source": [
    "print(tup2[1]) # printing from tuple index"
   ]
  },
  {
   "cell_type": "markdown",
   "metadata": {},
   "source": [
    "# 5) String and its 5 default functions"
   ]
  },
  {
   "cell_type": "code",
   "execution_count": 71,
   "metadata": {},
   "outputs": [
    {
     "name": "stdout",
     "output_type": "stream",
     "text": [
      "edargpustel ot emoclew\n"
     ]
    }
   ],
   "source": [
    "str1=('welcome to letsupgrade')\n",
    "print(str1[::-1]) # reversing the string"
   ]
  },
  {
   "cell_type": "code",
   "execution_count": 88,
   "metadata": {},
   "outputs": [
    {
     "name": "stdout",
     "output_type": "stream",
     "text": [
      "welcome to letsupgrade python java AI/ML\n"
     ]
    }
   ],
   "source": [
    "print(str1,\"{}{}{}\".format('python ','java ','AI/ML')) # including items with format"
   ]
  },
  {
   "cell_type": "code",
   "execution_count": 89,
   "metadata": {},
   "outputs": [
    {
     "name": "stdout",
     "output_type": "stream",
     "text": [
      "22\n"
     ]
    }
   ],
   "source": [
    "print(len(str1)) # to find the lenght of string"
   ]
  },
  {
   "cell_type": "code",
   "execution_count": 91,
   "metadata": {},
   "outputs": [
    {
     "name": "stdout",
     "output_type": "stream",
     "text": [
      "WELCOME TO LETSUPGRADE\n"
     ]
    }
   ],
   "source": [
    "print(str1.upper()) # to print string in upper case"
   ]
  },
  {
   "cell_type": "code",
   "execution_count": 93,
   "metadata": {},
   "outputs": [
    {
     "name": "stdout",
     "output_type": "stream",
     "text": [
      "['welcome', 'to', 'letsupgrade']\n"
     ]
    }
   ],
   "source": [
    "print(str1.rsplit()) # returns words from string"
   ]
  },
  {
   "cell_type": "code",
   "execution_count": null,
   "metadata": {},
   "outputs": [],
   "source": []
  }
 ],
 "metadata": {
  "kernelspec": {
   "display_name": "Python 3",
   "language": "python",
   "name": "python3"
  },
  "language_info": {
   "codemirror_mode": {
    "name": "ipython",
    "version": 3
   },
   "file_extension": ".py",
   "mimetype": "text/x-python",
   "name": "python",
   "nbconvert_exporter": "python",
   "pygments_lexer": "ipython3",
   "version": "3.7.6"
  }
 },
 "nbformat": 4,
 "nbformat_minor": 4
}
